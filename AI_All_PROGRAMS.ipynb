{
  "cells": [
    {
      "cell_type": "markdown",
      "metadata": {
        "id": "view-in-github",
        "colab_type": "text"
      },
      "source": [
        "<a href=\"https://colab.research.google.com/github/Kunal726/Kunal726/blob/main/AI_All_PROGRAMS.ipynb\" target=\"_parent\"><img src=\"https://colab.research.google.com/assets/colab-badge.svg\" alt=\"Open In Colab\"/></a>"
      ]
    },
    {
      "cell_type": "markdown",
      "metadata": {
        "id": "btl9pfP9yIIG"
      },
      "source": [
        "# BFS"
      ]
    },
    {
      "cell_type": "code",
      "execution_count": 1,
      "metadata": {
        "scrolled": true,
        "colab": {
          "base_uri": "https://localhost:8080/"
        },
        "id": "mymivFvJyIIN",
        "outputId": "cee6344a-9f31-4b5a-cf70-ed542b1dda24"
      },
      "outputs": [
        {
          "output_type": "stream",
          "name": "stdout",
          "text": [
            "Visited B\n",
            "B is not a destination node\n",
            "A is not a destination node\n",
            "D is not a destination node\n",
            "E is not a destination node\n",
            "C is not a destination node\n",
            "E is not a destination node\n",
            "F is not a destination node\n",
            "Destination Node Found G\n",
            "Reachable ['B', 'A', 'D', 'E', 'C', 'E', 'F', 'G']\n"
          ]
        }
      ],
      "source": [
        "def BFS(graph,start,dest) -> list():\n",
        "    queue = list()\n",
        "    visited = list()\n",
        "    queue.append(start)\n",
        "    print(\"Visited\",start)\n",
        "    result=[\"Not Reachable\",list()]\n",
        "    while queue:\n",
        "        node = queue.pop(0)\n",
        "        visited.append(node)\n",
        "        if node == dest:\n",
        "            print(\"Destination Node Found\",node)\n",
        "            result[0] = \"Reachable\"\n",
        "            break\n",
        "        print(node,\"is not a destination node\")\n",
        "        for child in graph[node]:\n",
        "            if child not in visited:\n",
        "                queue.append(child)\n",
        "    result[1] = visited\n",
        "    return result\n",
        "\n",
        "\n",
        "graph = {\n",
        "    'A':['B','C'],\n",
        "    'B':['A','D','E'],\n",
        "    'C':['A','F','G'],\n",
        "    'D':['B','E'],\n",
        "    'E':['B','D'],\n",
        "    'F':['C','H'],\n",
        "    'G':['C'],\n",
        "    'H':['F']\n",
        "}\n",
        "\n",
        "result = BFS(graph,'B','G')\n",
        "print(result[0], result[1])"
      ]
    },
    {
      "cell_type": "markdown",
      "metadata": {
        "id": "2050SOWayIIR"
      },
      "source": [
        "# DFS"
      ]
    },
    {
      "cell_type": "code",
      "execution_count": 2,
      "metadata": {
        "colab": {
          "base_uri": "https://localhost:8080/"
        },
        "id": "jxKJUaTYyIIS",
        "outputId": "2defe83a-01d7-4f34-c599-28abba7fcc1d"
      },
      "outputs": [
        {
          "output_type": "stream",
          "name": "stdout",
          "text": [
            "Visited B\n",
            "B is not a destination node\n",
            "E is not a destination node\n",
            "D is not a destination node\n",
            "A is not a destination node\n",
            "C is not a destination node\n",
            "G is not a destination node\n",
            "F is not a destination node\n",
            "Destination Node Found H\n",
            "Reachable ['B', 'A', 'D', 'E', 'C', 'F', 'G', 'H']\n"
          ]
        }
      ],
      "source": [
        "def DFS(graph,start,dest) -> list():\n",
        "    stack = list()\n",
        "    visited = list()\n",
        "    stack.append(start)\n",
        "    visited.append(start)\n",
        "    print(\"Visited\",start)\n",
        "    result=[\"Not Reachable\",list()]\n",
        "    while stack:\n",
        "        node = stack.pop()\n",
        "        \n",
        "        if node == dest:\n",
        "            print(\"Destination Node Found\",node)\n",
        "            result[0] = \"Reachable\"\n",
        "            break\n",
        "        print(node,\"is not a destination node\")\n",
        "        for child in graph[node]:\n",
        "            if child not in visited:\n",
        "                visited.append(child)\n",
        "                stack.append(child)\n",
        "    result[1] = visited\n",
        "    return result\n",
        "\n",
        "\n",
        "graph = {\n",
        "    'A':['B','C'],\n",
        "    'B':['A','D','E'],\n",
        "    'C':['A','F','G'],\n",
        "    'D':['B','E'],\n",
        "    'E':['B','D'],\n",
        "    'F':['C','H'],\n",
        "    'G':['C'],\n",
        "    'H':['F']\n",
        "}\n",
        "\n",
        "result = DFS(graph,'B','H')\n",
        "print(result[0], result[1])"
      ]
    },
    {
      "cell_type": "markdown",
      "metadata": {
        "id": "kn4Nph39yIIU"
      },
      "source": [
        "# Kruskal"
      ]
    },
    {
      "cell_type": "code",
      "execution_count": 3,
      "metadata": {
        "colab": {
          "base_uri": "https://localhost:8080/"
        },
        "id": "vPllfM8wyIIV",
        "outputId": "b5d1ee43-c08f-48ea-94d8-3259519e3345"
      },
      "outputs": [
        {
          "output_type": "execute_result",
          "data": {
            "text/plain": [
              "[[1, 2], [3, 4], [3, 6], [1, 3], [4, 5], [7, 5]]"
            ]
          },
          "metadata": {},
          "execution_count": 3
        }
      ],
      "source": [
        "def find(graph, node):\n",
        "    if graph[node] < 0:\n",
        "        return node\n",
        "    else:\n",
        "        temp = find(graph,graph[node])\n",
        "        graph[node] = temp\n",
        "        return temp\n",
        "    \n",
        "def union(graph,a,b,answer):\n",
        "    ta = a\n",
        "    tb = b\n",
        "    a = find(graph,a)\n",
        "    b = find(graph,b)\n",
        "    if a == b:\n",
        "        pass\n",
        "    else:\n",
        "        answer.append([ta,tb])\n",
        "        if graph[a] < graph[b]:\n",
        "            graph[a] = graph[b] + graph[a]\n",
        "            graph[b] = a\n",
        "        else:\n",
        "            graph[b] = graph[b] + graph[a]\n",
        "            graph[a] = b\n",
        "\n",
        "ipt = [[1,2,1],[1,3,3],[2,6,4],[3,6,2],[3,4,1],[4,5,5],[6,5,6],[7,5,7]]\n",
        "n = 7\n",
        "answer = []\n",
        "ipt = sorted(ipt,key = lambda ipt:ipt[2])\n",
        "graph = [-1]*(n+1)\n",
        "for u,v,d in ipt:\n",
        "    union(graph,u,v,answer)\n",
        "\n",
        "answer\n",
        "    "
      ]
    },
    {
      "cell_type": "markdown",
      "metadata": {
        "id": "ZZ664_-JyIIW"
      },
      "source": [
        "# Chatbot"
      ]
    },
    {
      "cell_type": "code",
      "execution_count": null,
      "metadata": {
        "id": "7DjJo8cZyIIX"
      },
      "outputs": [],
      "source": [
        "# Rule Based\n",
        "from tkinter import *\n",
        "root = Tk()\n",
        "root.title(\"Chatbot\")\n",
        "def send():\n",
        "    send = \"\\n You -> \"+e.get()\n",
        "    txt.insert(END, \"\"+send)\n",
        "    user = e.get().lower()\n",
        "    if(user == \"hello\"):\n",
        "        txt.insert(END, \"\" +  \"\\n Bot -> Hi\")\n",
        "    elif(user == \"hi\" or user == \"hii\" or user == \"hiiii\"):\n",
        "        txt.insert(END, \"\" + \"\\n Bot -> Hello\")\n",
        "    elif(e.get() == \"how are you\"):\n",
        "        txt.insert(END, \"\" + \"\\n Bot -> fine! and you\")\n",
        "    elif(user == \"fine\" or user == \"i am good\" or user == \"i am doing good\"):\n",
        "        txt.insert(END, \"\" + \"\\n Bot -> Great! how can I help you.\")\n",
        "    elif(user.lower() == \"wish me\") :\n",
        "        txt.insert(END, \"\\n Bot -> Happy Birthday to You Master\")\n",
        "    elif(user.lower() == \"thank you\" or user.lower() == 'thanks') :\n",
        "        txt.insert(END, \"\\n Bot -> You are Welcome\")\n",
        "    elif(user.lower() == \"good morning\") :\n",
        "        txt.insert(END, \"\\n Bot -> Good Morning Master!!\")\n",
        "    elif(user.lower() == \"Good Night\") :\n",
        "        txt.insert(END, \"\\n Bot -> Good Night Master!!\")\n",
        "    else:\n",
        "        txt.insert(END, \"\" + \"\\n Bot -> Sorry! I dind't got you\")\n",
        "    e.delete(0, END)\n",
        "txt = Text(root)\n",
        "txt.grid(row=0, column=0, columnspan=2)\n",
        "e = Entry(root, width=100)\n",
        "e.grid(row=1, column=0)\n",
        "send = Button(root, text=\"Send\", command=send).grid(row=1, column=1)\n",
        "root.mainloop()\n"
      ]
    },
    {
      "cell_type": "code",
      "execution_count": 15,
      "metadata": {
        "colab": {
          "base_uri": "https://localhost:8080/"
        },
        "id": "UCiQxZ8qyIIZ",
        "outputId": "f78360c1-dcee-4aa4-a0e6-ba24996594d2"
      },
      "outputs": [
        {
          "output_type": "stream",
          "name": "stdout",
          "text": [
            ">hii\n",
            "Hey !\n",
            ">how ar you\n",
            "None\n",
            ">how are you\n",
            "I am Fine! And You ?\n",
            ">quit\n",
            "Bye! Nice talking To You. \n",
            "Take Care. \n",
            "Have A Nice Day\n"
          ]
        }
      ],
      "source": [
        "# nltk based\n",
        "import nltk \n",
        "from nltk.chat.util import Chat, reflections\n",
        "  \n",
        "pairs =[\n",
        "    ['my name is (.*)', ['Hello !']],\n",
        "    ['(hi|hello|hey|holla|hola)', ['Hey there !', 'Hi there !', 'Hey !']],\n",
        "    ['how are you ?',['I am Fine! And You ?']],\n",
        "    ['i am fine',['Great! \\nHow May I Help You ?']],\n",
        "    ['fine',['Great! \\nHow May I Help You ?']],\n",
        "    ['i am good',['Great! \\nHow May I Help You ?']],\n",
        "    ['(.*) your name ?', ['My name is Alen']],\n",
        "    ['(.*) do you do ?', ['Making robo army !']],\n",
        "    ['(.*) created you ?', ['--- nobody created me i am the creator']],\n",
        "    ['(.*) my birthday',['Happy Birthday to you']],\n",
        "    ['thank you',['You are welcome']],\n",
        "    ['quit',['Bye! Nice talking To You. \\nTake Care. \\nHave A Nice Day']]\n",
        "]\n",
        "  \n",
        "chat = Chat(pairs, reflections)\n",
        "chat.converse()"
      ]
    },
    {
      "cell_type": "markdown",
      "metadata": {
        "id": "wDEVDrDUyIIa"
      },
      "source": [
        "# A star"
      ]
    },
    {
      "cell_type": "code",
      "execution_count": 4,
      "metadata": {
        "colab": {
          "base_uri": "https://localhost:8080/"
        },
        "id": "bxyqyWCwyIIb",
        "outputId": "09eb5ba9-67ed-4f76-f622-a9be8980f36b"
      },
      "outputs": [
        {
          "output_type": "stream",
          "name": "stdout",
          "text": [
            "| 0 | 1 | 2 |\n",
            "| 3 | 4 | 5 |\n",
            "| 6 | 7 | 8 |\n",
            "X makes a move to square 1\n",
            "|   | X |   |\n",
            "|   |   |   |\n",
            "|   |   |   |\n",
            "\n",
            "O's turn. Input move (0-9): 0\n",
            "O makes a move to square 0\n",
            "| O | X |   |\n",
            "|   |   |   |\n",
            "|   |   |   |\n",
            "\n",
            "X makes a move to square 3\n",
            "| O | X |   |\n",
            "| X |   |   |\n",
            "|   |   |   |\n",
            "\n",
            "O's turn. Input move (0-9): 4\n",
            "O makes a move to square 4\n",
            "| O | X |   |\n",
            "| X | O |   |\n",
            "|   |   |   |\n",
            "\n",
            "X makes a move to square 8\n",
            "| O | X |   |\n",
            "| X | O |   |\n",
            "|   |   | X |\n",
            "\n",
            "O's turn. Input move (0-9): 6\n",
            "O makes a move to square 6\n",
            "| O | X |   |\n",
            "| X | O |   |\n",
            "| O |   | X |\n",
            "\n",
            "X makes a move to square 2\n",
            "| O | X | X |\n",
            "| X | O |   |\n",
            "| O |   | X |\n",
            "\n",
            "O's turn. Input move (0-9): 5\n",
            "O makes a move to square 5\n",
            "| O | X | X |\n",
            "| X | O | O |\n",
            "| O |   | X |\n",
            "\n",
            "X makes a move to square 7\n",
            "| O | X | X |\n",
            "| X | O | O |\n",
            "| O | X | X |\n",
            "\n",
            "It's a tie!\n"
          ]
        }
      ],
      "source": [
        "import math\n",
        "import time\n",
        "import random\n",
        "\n",
        "class TicTacToe():\n",
        "    def __init__(self):\n",
        "        self.board = self.make_board()\n",
        "        self.current_winner = None\n",
        "\n",
        "    @staticmethod\n",
        "    def make_board():\n",
        "        return [' ' for _ in range(9)]\n",
        "\n",
        "    def print_board(self):\n",
        "        for row in [self.board[i*3:(i+1) * 3] for i in range(3)]:\n",
        "            print('| ' + ' | '.join(row) + ' |')\n",
        "\n",
        "    @staticmethod\n",
        "    def print_board_nums():\n",
        "        # 0 | 1 | 2\n",
        "        number_board = [[str(i) for i in range(j*3, (j+1)*3)] for j in range(3)]\n",
        "        for row in number_board:\n",
        "            print('| ' + ' | '.join(row) + ' |')\n",
        "\n",
        "    def make_move(self, square, letter):\n",
        "        if self.board[square] == ' ':\n",
        "            self.board[square] = letter\n",
        "            if self.winner(square, letter):\n",
        "                self.current_winner = letter\n",
        "            return True\n",
        "        return False\n",
        "\n",
        "    def winner(self, square, letter):\n",
        "        # check the row\n",
        "        row_ind = math.floor(square / 3)\n",
        "        row = self.board[row_ind*3:(row_ind+1)*3]\n",
        "        # print('row', row)\n",
        "        if all([s == letter for s in row]):\n",
        "            return True\n",
        "        col_ind = square % 3\n",
        "        column = [self.board[col_ind+i*3] for i in range(3)]\n",
        "        # print('col', column)\n",
        "        if all([s == letter for s in column]):\n",
        "            return True\n",
        "        if square % 2 == 0:\n",
        "            diagonal1 = [self.board[i] for i in [0, 4, 8]]\n",
        "            # print('diag1', diagonal1)\n",
        "            if all([s == letter for s in diagonal1]):\n",
        "                return True\n",
        "            diagonal2 = [self.board[i] for i in [2, 4, 6]]\n",
        "            # print('diag2', diagonal2)\n",
        "            if all([s == letter for s in diagonal2]):\n",
        "                return True\n",
        "        return False\n",
        "\n",
        "    def empty_squares(self):\n",
        "        return ' ' in self.board\n",
        "\n",
        "    def num_empty_squares(self):\n",
        "        return self.board.count(' ')\n",
        "\n",
        "    def available_moves(self):\n",
        "        return [i for i, x in enumerate(self.board) if x == \" \"]\n",
        "    \n",
        "    \n",
        "\n",
        "    \n",
        "class Player():\n",
        "    def __init__(self, letter):\n",
        "        self.letter = letter\n",
        "\n",
        "    def get_move(self, game):\n",
        "        pass\n",
        "\n",
        "class HumanPlayer(Player):\n",
        "    def __init__(self, letter):\n",
        "        super().__init__(letter)\n",
        "\n",
        "    def get_move(self, game):\n",
        "        valid_square = False\n",
        "        val = None\n",
        "        while not valid_square:\n",
        "            square = input(self.letter + '\\'s turn. Input move (0-9): ')\n",
        "            try:\n",
        "                val = int(square)\n",
        "                if val not in game.available_moves():\n",
        "                    raise ValueError\n",
        "                valid_square = True\n",
        "            except ValueError:\n",
        "                print('Invalid square. Try again.')\n",
        "        return val\n",
        "    \n",
        "class SmartComputerPlayer(Player):\n",
        "    def __init__(self, letter):\n",
        "        super().__init__(letter)\n",
        "\n",
        "    def get_move(self, game):\n",
        "        if len(game.available_moves()) == 9:\n",
        "            square = random.choice(game.available_moves())\n",
        "        else:\n",
        "            square = self.minimax(game, self.letter)['position']\n",
        "        return square\n",
        "\n",
        "    def minimax(self, state, player):\n",
        "        max_player = self.letter  # yourself\n",
        "        other_player = 'O' if player == 'X' else 'X'\n",
        "\n",
        "        # first we want to check if the previous move is a winner\n",
        "        if state.current_winner == other_player:\n",
        "            return {'position': None, 'score': 1 * (state.num_empty_squares() + 1) if other_player == max_player else -1 * (\n",
        "                        state.num_empty_squares() + 1)}\n",
        "        elif not state.empty_squares():\n",
        "            return {'position': None, 'score': 0}\n",
        "\n",
        "        if player == max_player:\n",
        "            best = {'position': None, 'score': -math.inf}  # each score should maximize\n",
        "        else:\n",
        "            best = {'position': None, 'score': math.inf}  # each score should minimize\n",
        "        for possible_move in state.available_moves():\n",
        "            state.make_move(possible_move, player)\n",
        "            sim_score = self.minimax(state, other_player)  # simulate a game after making that move\n",
        "\n",
        "            # undo move\n",
        "            state.board[possible_move] = ' '\n",
        "            state.current_winner = None\n",
        "            sim_score['position'] = possible_move  # this represents the move optimal next move\n",
        "\n",
        "            if player == max_player:  # X is max player\n",
        "                if sim_score['score'] > best['score']:\n",
        "                    best = sim_score\n",
        "            else:\n",
        "                if sim_score['score'] < best['score']:\n",
        "                    best = sim_score\n",
        "        return best\n",
        "\n",
        "\n",
        "def play(game, x_player, o_player, print_game=True):\n",
        "\n",
        "    if print_game:\n",
        "        game.print_board_nums()\n",
        "\n",
        "    letter = 'X'\n",
        "    while game.empty_squares():\n",
        "        if letter == 'O':\n",
        "            square = o_player.get_move(game)\n",
        "        else:\n",
        "            square = x_player.get_move(game)\n",
        "        if game.make_move(square, letter):\n",
        "\n",
        "            if print_game:\n",
        "                print(letter + ' makes a move to square {}'.format(square))\n",
        "                game.print_board()\n",
        "                print('')\n",
        "\n",
        "            if game.current_winner:\n",
        "                if print_game:\n",
        "                    print(letter + ' wins!')\n",
        "                return letter  # ends the loop and exits the game\n",
        "            letter = 'O' if letter == 'X' else 'X'  # switches player\n",
        "\n",
        "        time.sleep(.8)\n",
        "\n",
        "    if print_game:\n",
        "        print('It\\'s a tie!')\n",
        "\n",
        "\n",
        "\n",
        "if __name__ == '__main__':\n",
        "    x_player = SmartComputerPlayer('X')\n",
        "    o_player = HumanPlayer('O')\n",
        "    t = TicTacToe()\n",
        "    play(t, x_player, o_player, print_game=True)"
      ]
    },
    {
      "cell_type": "markdown",
      "metadata": {
        "id": "pS6khEvayIId"
      },
      "source": [
        "# Nqueen"
      ]
    },
    {
      "cell_type": "code",
      "execution_count": 14,
      "metadata": {
        "colab": {
          "base_uri": "https://localhost:8080/"
        },
        "id": "p3teFBpZyIIe",
        "outputId": "05235ea3-f110-421a-eefe-2893d0ccb0ac"
      },
      "outputs": [
        {
          "output_type": "stream",
          "name": "stdout",
          "text": [
            "Q\t.\t.\t.\t.\t.\t.\t.\t.\t.\t.\t.\t.\t.\t\n",
            ".\t.\tQ\t.\t.\t.\t.\t.\t.\t.\t.\t.\t.\t.\t\n",
            ".\t.\t.\t.\tQ\t.\t.\t.\t.\t.\t.\t.\t.\t.\t\n",
            ".\t.\t.\t.\t.\t.\tQ\t.\t.\t.\t.\t.\t.\t.\t\n",
            ".\t.\t.\t.\t.\t.\t.\t.\t.\t.\t.\tQ\t.\t.\t\n",
            ".\t.\t.\t.\t.\t.\t.\t.\t.\tQ\t.\t.\t.\t.\t\n",
            ".\t.\t.\t.\t.\t.\t.\t.\t.\t.\t.\t.\tQ\t.\t\n",
            ".\t.\t.\tQ\t.\t.\t.\t.\t.\t.\t.\t.\t.\t.\t\n",
            ".\t.\t.\t.\t.\t.\t.\t.\t.\t.\t.\t.\t.\tQ\t\n",
            ".\t.\t.\t.\t.\t.\t.\t.\tQ\t.\t.\t.\t.\t.\t\n",
            ".\tQ\t.\t.\t.\t.\t.\t.\t.\t.\t.\t.\t.\t.\t\n",
            ".\t.\t.\t.\t.\tQ\t.\t.\t.\t.\t.\t.\t.\t.\t\n",
            ".\t.\t.\t.\t.\t.\t.\tQ\t.\t.\t.\t.\t.\t.\t\n",
            ".\t.\t.\t.\t.\t.\t.\t.\t.\t.\tQ\t.\t.\t.\t\n"
          ]
        }
      ],
      "source": [
        "def solveNQueens(n):\n",
        "    col = set()\n",
        "    posDiag = set() # r + c\n",
        "    negDiag = set() # r - c\n",
        "    res = []\n",
        "    board = [[\".\"] * n for i in range(n)]\n",
        "    count = n\n",
        "    backtrack(0,res,posDiag,negDiag, col, n, board,count)\n",
        "    return res[0]\n",
        "\n",
        "def backtrack(r,res,posDiag,negDiag, col, n, board, count):\n",
        "    if r == n:\n",
        "        copy = [\"\".join(row) for row in board]\n",
        "        res.append(copy)\n",
        "        return\n",
        "    \n",
        "    \n",
        "    for c in range (n):\n",
        "        if c in col or (r + c) in posDiag or (r - c) in negDiag:\n",
        "            continue\n",
        "            \n",
        "        col.add(c)\n",
        "        posDiag.add(r + c)\n",
        "        negDiag.add(r - c)\n",
        "        board[r][c] = \"Q\"\n",
        "        count -= 1\n",
        "        backtrack(r+1,res,posDiag,negDiag,col,n, board,count)\n",
        "        \n",
        "        col.remove(c)\n",
        "        posDiag.remove(r + c)\n",
        "        negDiag.remove(r - c)\n",
        "        board[r][c] = \".\"\n",
        "    \n",
        "n = 14\n",
        "res = solveNQueens(n)\n",
        "if res[0] == \".\"*n:\n",
        "  print(\"No Solution Found\")\n",
        "else :\n",
        "  for i in res:\n",
        "      for j in i:\n",
        "          print(j,end = \"\\t\")\n",
        "      print()"
      ]
    },
    {
      "cell_type": "code",
      "execution_count": null,
      "metadata": {
        "id": "SmuKspwOyIIf"
      },
      "outputs": [],
      "source": [
        ""
      ]
    },
    {
      "cell_type": "code",
      "execution_count": null,
      "metadata": {
        "id": "Kzg9jgFLyIIg"
      },
      "outputs": [],
      "source": [
        ""
      ]
    }
  ],
  "metadata": {
    "kernelspec": {
      "display_name": "Python 3",
      "language": "python",
      "name": "python3"
    },
    "language_info": {
      "codemirror_mode": {
        "name": "ipython",
        "version": 3
      },
      "file_extension": ".py",
      "mimetype": "text/x-python",
      "name": "python",
      "nbconvert_exporter": "python",
      "pygments_lexer": "ipython3",
      "version": "3.8.5"
    },
    "colab": {
      "name": "AI All PROGRAMS.ipynb",
      "provenance": [],
      "include_colab_link": true
    }
  },
  "nbformat": 4,
  "nbformat_minor": 0
}